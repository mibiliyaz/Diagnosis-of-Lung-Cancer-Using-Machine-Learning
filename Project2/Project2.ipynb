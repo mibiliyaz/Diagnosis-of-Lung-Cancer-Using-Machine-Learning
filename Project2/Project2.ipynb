{
 "cells": [
  {
   "cell_type": "markdown",
   "source": [
    "https://www.kaggle.com/khotijahs1/features-selection-lung-cancer-prediction/notebook"
   ],
   "metadata": {}
  },
  {
   "cell_type": "markdown",
   "source": [
    "Lung cancer, also known as lung carcinoma, is a malignant lung tumor characterized by uncontrolled cell growth in tissues of the lung. This growth can spread beyond the lung by the process of metastasis into nearby tissue or other parts of the body.\r\n",
    "\r\n",
    "https://images.medicinenet.com/images/image_collection/anatomy/lung-cancer.jpg\r\n",
    "\r\n",
    "In this study, we tried to predict Lung Cancer using 6 different algorithm:\r\n",
    "\r\n",
    "Logistic regression classification\r\n",
    "SVM (Support Vector Machine) classification\r\n",
    "Naive bayes classification\r\n",
    "Decision tree classification\r\n",
    "Random forest classification\r\n",
    "K-Nearest Neighbor classification\r\n",
    "Predictor variable use in classifying lung cancer:\r\n",
    "\r\n",
    "Age\r\n",
    "Smokes\r\n",
    "AreaQ\r\n",
    "Alkhol"
   ],
   "metadata": {}
  },
  {
   "cell_type": "markdown",
   "source": [
    ".............................................................................................................................."
   ],
   "metadata": {}
  },
  {
   "cell_type": "markdown",
   "source": [
    "Import Library"
   ],
   "metadata": {}
  },
  {
   "cell_type": "code",
   "execution_count": null,
   "source": [
    "import numpy as np \r\n",
    "import pandas as pd \r\n",
    "import matplotlib.pyplot as plt\r\n",
    "import seaborn as sns\r\n",
    "\r\n",
    "from sklearn import preprocessing\r\n",
    "from sklearn.preprocessing import MinMaxScaler"
   ],
   "outputs": [],
   "metadata": {}
  },
  {
   "cell_type": "markdown",
   "source": [
    "Data"
   ],
   "metadata": {}
  },
  {
   "cell_type": "code",
   "execution_count": null,
   "source": [
    "data = pd.read_csv('Input/lung_cancer_examples.csv')\r\n",
    "print('Dataset :',data.shape)\r\n",
    "data.info()\r\n",
    "data[0:10]"
   ],
   "outputs": [],
   "metadata": {}
  },
  {
   "cell_type": "code",
   "execution_count": null,
   "source": [
    "# Distribution of diagnosis\r\n",
    "data.Result.value_counts()[0:30].plot(kind='bar')\r\n",
    "plt.show()"
   ],
   "outputs": [],
   "metadata": {}
  },
  {
   "cell_type": "markdown",
   "source": [
    "VISUALIZING THE DATA"
   ],
   "metadata": {}
  },
  {
   "cell_type": "code",
   "execution_count": null,
   "source": [
    "sns.set_style(\"whitegrid\")\r\n",
    "sns.pairplot(data,hue=\"Result\",size=3);\r\n",
    "plt.show()"
   ],
   "outputs": [],
   "metadata": {}
  },
  {
   "cell_type": "markdown",
   "source": [
    "Eliminate irrelevant variables in analysis such as name, surname"
   ],
   "metadata": {}
  },
  {
   "cell_type": "code",
   "execution_count": null,
   "source": [
    "data1 = data.drop(columns=['Name','Surname'], axis=1)\r\n",
    "data1 = data1.dropna(how='any')\r\n",
    "print(data1.shape)"
   ],
   "outputs": [],
   "metadata": {}
  },
  {
   "cell_type": "code",
   "execution_count": null,
   "source": [
    "print(data1.shape)\r\n",
    "data1.head()"
   ],
   "outputs": [],
   "metadata": {}
  },
  {
   "cell_type": "markdown",
   "source": [
    "Data for training and testing\r\n",
    "To select a set of training data that will be input in the Machine Learning algorithm, to ensure that the classification algorithm training can be generalized well to new data. For this study using a sample size of 10%, assumed it ideal ratio between training and testing"
   ],
   "metadata": {}
  },
  {
   "cell_type": "code",
   "execution_count": null,
   "source": [
    "from sklearn.model_selection import train_test_split\r\n",
    "Y = data1['Result']\r\n",
    "X = data1.drop(columns=['Result'])\r\n",
    "X_train, X_test, Y_train, Y_test = train_test_split(X, Y, test_size=0.1, random_state=9)"
   ],
   "outputs": [],
   "metadata": {}
  },
  {
   "cell_type": "code",
   "execution_count": null,
   "source": [
    "print('X train shape: ', X_train.shape)\r\n",
    "print('Y train shape: ', Y_train.shape)\r\n",
    "print('X test shape: ', X_test.shape)\r\n",
    "print('Y test shape: ', Y_test.shape)"
   ],
   "outputs": [],
   "metadata": {}
  },
  {
   "cell_type": "markdown",
   "source": [
    "1. Logistic regression classification\r\n",
    "Logistic regression is a technique that can be applied to binary classification problems. This technique uses the logistic function or sigmoid function, which is an S-shaped curve that can assume any real value number and assign it to a value between 0 and 1, but never exactly in those limits. Thus, logistic regression models the probability of the default class (the probability that an input  (X)  belongs to the default class  (Y=1) )  (P(X)=P(Y=1|X)) . In order to make the prediction of the probability, the logistic function is used, which allows us to obtain the log-odds or the probit. Thus, the model is a linear combination of the inputs, but that this linear combination relates to the log-odds of the default class.\r\n",
    "\r\n",
    "Started from make an instance of the model setting the default values. Specify the inverse of the regularization strength in 10. Trained the logistic regression model with the training data, and then applied such model to the test data."
   ],
   "metadata": {}
  },
  {
   "cell_type": "code",
   "execution_count": null,
   "source": [
    "from sklearn.linear_model import LogisticRegression\r\n",
    "\r\n",
    "# We defining the model\r\n",
    "logreg = LogisticRegression(C=10)\r\n",
    "\r\n",
    "# We train the model\r\n",
    "logreg.fit(X_train, Y_train)\r\n",
    "\r\n",
    "# We predict target values\r\n",
    "Y_predict1 = logreg.predict(X_test)"
   ],
   "outputs": [],
   "metadata": {}
  },
  {
   "cell_type": "code",
   "execution_count": null,
   "source": [
    "# The confusion matrix\r\n",
    "from sklearn.metrics import confusion_matrix\r\n",
    "import seaborn as sns\r\n",
    "\r\n",
    "logreg_cm = confusion_matrix(Y_test, Y_predict1)\r\n",
    "f, ax = plt.subplots(figsize=(5,5))\r\n",
    "sns.heatmap(logreg_cm, annot=True, linewidth=0.7, linecolor='cyan', fmt='g', ax=ax, cmap=\"YlGnBu\")\r\n",
    "plt.title('Logistic Regression Classification Confusion Matrix')\r\n",
    "plt.xlabel('Y predict')\r\n",
    "plt.ylabel('Y test')\r\n",
    "plt.show()"
   ],
   "outputs": [],
   "metadata": {}
  },
  {
   "cell_type": "code",
   "execution_count": null,
   "source": [
    "# Test score\r\n",
    "score_logreg = logreg.score(X_test, Y_test)\r\n",
    "print(score_logreg)"
   ],
   "outputs": [],
   "metadata": {}
  },
  {
   "cell_type": "markdown",
   "source": [
    "2. SVM (Support Vector Machine) classification\r\n",
    "SVMs (Support Vector Machine) have shown a rapid proliferation during the last years. The learning problem setting for SVMs corresponds to a some unknown and nonlinear dependency (mapping, function)  y=f(x)  between some high-dimensional input vector  x  and scalar output  y . It is noteworthy that there is no information on the joint probability functions, therefore, a free distribution learning must be carried out. The only information available is a training data set  D=(xi,yi)∈X×Y,i=1 ,  l , where  l  stands for the number of the training data pairs and is therefore equal to the size of the training data set  D , additionally,  yi  is denoted as  di , where  d  stands for a desired (target) value. Hence, SVMs belong to the supervised learning techniques.\r\n",
    "\r\n",
    "From the classification approach, the goal of SVM is to find a hyperplane in an N-dimensional space that clearly classifies the data points. Thus hyperplanes are decision boundaries that help classify the data points. Data points falling on either side of the hyperplane can be attributed to different classes."
   ],
   "metadata": {}
  },
  {
   "cell_type": "code",
   "execution_count": null,
   "source": [
    "from sklearn.ensemble import BaggingClassifier\r\n",
    "from sklearn.multiclass import OneVsRestClassifier\r\n",
    "from sklearn.svm import SVC\r\n",
    "\r\n",
    "# We define the SVM model\r\n",
    "svmcla = OneVsRestClassifier(BaggingClassifier(SVC(C=10,kernel='rbf',random_state=9, probability=True), n_jobs=-1))\r\n",
    "\r\n",
    "# We train model\r\n",
    "svmcla.fit(X_train, Y_train)\r\n",
    "\r\n",
    "# We predict target values\r\n",
    "Y_predict2 = svmcla.predict(X_test)"
   ],
   "outputs": [],
   "metadata": {}
  },
  {
   "cell_type": "code",
   "execution_count": null,
   "source": [
    "# The confusion matrix\r\n",
    "svmcla_cm = confusion_matrix(Y_test, Y_predict2)\r\n",
    "f, ax = plt.subplots(figsize=(5,5))\r\n",
    "sns.heatmap(svmcla_cm, annot=True, linewidth=0.7, linecolor='cyan', fmt='g', ax=ax, cmap=\"YlGnBu\")\r\n",
    "plt.title('SVM Classification Confusion Matrix')\r\n",
    "plt.xlabel('Y predict')\r\n",
    "plt.ylabel('Y test')\r\n",
    "plt.show()"
   ],
   "outputs": [],
   "metadata": {}
  },
  {
   "cell_type": "code",
   "execution_count": null,
   "source": [
    "# Test score\r\n",
    "score_svmcla = svmcla.score(X_test, Y_test)\r\n",
    "print(score_svmcla)"
   ],
   "outputs": [],
   "metadata": {}
  },
  {
   "cell_type": "markdown",
   "source": [
    "3. Naive bayes classification\r\n",
    "The naive Bayesian classifier is a probabilistic classifier based on Bayes' theorem with strong independence assumptions between the features. Thus, using Bayes theorem  (P(X|Y)=P(Y|X)P(X)P(Y)) , we can find the probability of  X  happening, given that  Y  has occurred. Here,  Y  is the evidence and  X  is the hypothesis. The assumption made here is that the presence of one particular feature does not affect the other (the predictors/features are independent). Hence it is called naive. In this case we will assume that we assume the values are sampled from a Gaussian distribution and therefore we consider a Gaussian Naive Bayes."
   ],
   "metadata": {}
  },
  {
   "cell_type": "code",
   "execution_count": null,
   "source": [
    "from sklearn.naive_bayes import GaussianNB\r\n",
    "\r\n",
    "# We define the model\r\n",
    "nbcla = GaussianNB()\r\n",
    "\r\n",
    "# We train model\r\n",
    "nbcla.fit(X_train, Y_train)\r\n",
    "\r\n",
    "# We predict target values\r\n",
    "Y_predict3 = nbcla.predict(X_test)"
   ],
   "outputs": [],
   "metadata": {}
  },
  {
   "cell_type": "code",
   "execution_count": null,
   "source": [
    "# The confusion matrix\r\n",
    "nbcla_cm = confusion_matrix(Y_test, Y_predict3)\r\n",
    "f, ax = plt.subplots(figsize=(5,5))\r\n",
    "sns.heatmap(nbcla_cm, annot=True, linewidth=0.7, linecolor='cyan', fmt='g', ax=ax, cmap=\"YlGnBu\")\r\n",
    "plt.title('Naive Bayes Classification Confusion Matrix')\r\n",
    "plt.xlabel('Y predict')\r\n",
    "plt.ylabel('Y test')\r\n",
    "plt.show()"
   ],
   "outputs": [],
   "metadata": {}
  },
  {
   "cell_type": "code",
   "execution_count": null,
   "source": [
    "# Test score\r\n",
    "score_nbcla = nbcla.score(X_test, Y_test)\r\n",
    "print(score_nbcla)"
   ],
   "outputs": [],
   "metadata": {}
  },
  {
   "cell_type": "markdown",
   "source": [
    "4. Decision tree classification\r\n",
    "A decision tree is a flowchart-like tree structure where an internal node represents feature, the branch represents a decision rule, and each leaf node represents the outcome. The decision tree analyzes a set of data to construct a set of rules or questions, which are used to predict a class, i.e., the goal of decision tree is to create a model that predicts the value of a target variable by learning simple decision rules inferred from the data features. In this sense the decision tree selects the best attribute using to divide the records, converting that attribute into a decision node and dividing the data set into smaller subsets, to finally start the construction of the tree repeating this process recursively."
   ],
   "metadata": {}
  },
  {
   "cell_type": "code",
   "execution_count": null,
   "source": [
    "from sklearn.tree import DecisionTreeClassifier\r\n",
    "\r\n",
    "# We define the model\r\n",
    "dtcla = DecisionTreeClassifier(random_state=9)\r\n",
    "\r\n",
    "# We train model\r\n",
    "dtcla.fit(X_train, Y_train)\r\n",
    "\r\n",
    "# We predict target values\r\n",
    "Y_predict4 = dtcla.predict(X_test)"
   ],
   "outputs": [],
   "metadata": {}
  },
  {
   "cell_type": "code",
   "execution_count": null,
   "source": [
    "# The confusion matrix\r\n",
    "dtcla_cm = confusion_matrix(Y_test, Y_predict4)\r\n",
    "f, ax = plt.subplots(figsize=(5,5))\r\n",
    "sns.heatmap(dtcla_cm, annot=True, linewidth=0.7, linecolor='cyan', fmt='g', ax=ax, cmap=\"YlGnBu\")\r\n",
    "plt.title('Decision Tree Classification Confusion Matrix')\r\n",
    "plt.xlabel('Y predict')\r\n",
    "plt.ylabel('Y test')\r\n",
    "plt.show()"
   ],
   "outputs": [],
   "metadata": {}
  },
  {
   "cell_type": "code",
   "execution_count": null,
   "source": [
    "# Test score\r\n",
    "score_dtcla = dtcla.score(X_test, Y_test)\r\n",
    "print(score_dtcla)"
   ],
   "outputs": [],
   "metadata": {}
  },
  {
   "cell_type": "markdown",
   "source": [
    "5. Random forest classification\r\n",
    "Based on the previous classification method, random forest is a supervised learning algorithm that creates a forest randomly. This forest, is a set of decision trees, most of the times trained with the bagging method. The essential idea of bagging is to average many noisy but approximately impartial models, and therefore reduce the variation. Each tree is constructed using the following algorithm:\r\n",
    "\r\n",
    "Let  N  be the number of test cases,  M  is the number of variables in the classifier.\r\n",
    "Let  m  be the number of input variables to be used to determine the decision in a given node;  m<M .\r\n",
    "Choose a training set for this tree and use the rest of the test cases to estimate the error.\r\n",
    "For each node of the tree, randomly choose  m  variables on which to base the decision. Calculate the best partition of the training set from the  m  variables.\r\n",
    "For prediction a new case is pushed down the tree. Then it is assigned the label of the terminal node where it ends. This process is iterated by all the trees in the assembly, and the label that gets the most incidents is reported as the prediction. We define the number of trees in the forest in 100.5. Random forest classification\r\n",
    "Based on the previous classification method, random forest is a supervised learning algorithm that creates a forest randomly. This forest, is a set of decision trees, most of the times trained with the bagging method. The essential idea of bagging is to average many noisy but approximately impartial models, and therefore reduce the variation. Each tree is constructed using the following algorithm:\r\n",
    "\r\n",
    "Let  N  be the number of test cases,  M  is the number of variables in the classifier.\r\n",
    "Let  m  be the number of input variables to be used to determine the decision in a given node;  m<M .\r\n",
    "Choose a training set for this tree and use the rest of the test cases to estimate the error.\r\n",
    "For each node of the tree, randomly choose  m  variables on which to base the decision. Calculate the best partition of the training set from the  m  variables.\r\n",
    "For prediction a new case is pushed down the tree. Then it is assigned the label of the terminal node where it ends. This process is iterated by all the trees in the assembly, and the label that gets the most incidents is reported as the prediction. We define the number of trees in the forest in 100."
   ],
   "metadata": {}
  },
  {
   "cell_type": "code",
   "execution_count": null,
   "source": [
    "from sklearn.ensemble import RandomForestClassifier\r\n",
    "\r\n",
    "# We define the model\r\n",
    "rfcla = RandomForestClassifier(n_estimators=100,random_state=9,n_jobs=-1)\r\n",
    "\r\n",
    "# We train model\r\n",
    "rfcla.fit(X_train, Y_train)\r\n",
    "\r\n",
    "# We predict target values\r\n",
    "Y_predict5 = rfcla.predict(X_test)"
   ],
   "outputs": [],
   "metadata": {}
  },
  {
   "cell_type": "code",
   "execution_count": null,
   "source": [
    "# The confusion matrix\r\n",
    "rfcla_cm = confusion_matrix(Y_test, Y_predict5)\r\n",
    "f, ax = plt.subplots(figsize=(5,5))\r\n",
    "sns.heatmap(rfcla_cm, annot=True, linewidth=0.7, linecolor='cyan', fmt='g', ax=ax, cmap=\"YlGnBu\")\r\n",
    "plt.title('Random Forest Classification Confusion Matrix')\r\n",
    "plt.xlabel('Y predict')\r\n",
    "plt.ylabel('Y test')\r\n",
    "plt.show()"
   ],
   "outputs": [],
   "metadata": {}
  },
  {
   "cell_type": "code",
   "execution_count": null,
   "source": [
    "# Test score\r\n",
    "score_rfcla = rfcla.score(X_test, Y_test)\r\n",
    "print(score_rfcla)"
   ],
   "outputs": [],
   "metadata": {}
  },
  {
   "cell_type": "markdown",
   "source": [
    "6. K-Nearest Neighbor classification\r\n",
    "K-Nearest neighbors is a technique that stores all available cases and classifies new cases based on a similarity measure (e.g., distance functions). This technique is non-parametric since there are no assumptions for the distribution of underlying data and it is lazy since it does not need any training data point model generation. All the training data used in the test phase. This makes the training faster and the test phase slower and more costlier. In this technique, the number of neighbors k is usually an odd number if the number of classes is 2. For finding closest similar points, find the distance between points using distance measures such as Euclidean distance, Hamming distance, Manhattan distance and Minkowski distance."
   ],
   "metadata": {}
  },
  {
   "cell_type": "code",
   "execution_count": null,
   "source": [
    "from sklearn.neighbors import KNeighborsClassifier\r\n",
    "\r\n",
    "# We define the model\r\n",
    "knncla = KNeighborsClassifier(n_neighbors=5,n_jobs=-1)\r\n",
    "\r\n",
    "# We train model\r\n",
    "knncla.fit(X_train, Y_train)\r\n",
    "\r\n",
    "# We predict target values\r\n",
    "Y_predict6 = knncla.predict(X_test)"
   ],
   "outputs": [],
   "metadata": {}
  },
  {
   "cell_type": "code",
   "execution_count": null,
   "source": [
    "# The confusion matrix\r\n",
    "knncla_cm = confusion_matrix(Y_test, Y_predict6)\r\n",
    "f, ax = plt.subplots(figsize=(5,5))\r\n",
    "sns.heatmap(knncla_cm, annot=True, linewidth=0.7, linecolor='cyan', fmt='g', ax=ax, cmap=\"YlGnBu\")\r\n",
    "plt.title('KNN Classification Confusion Matrix')\r\n",
    "plt.xlabel('Y predict')\r\n",
    "plt.ylabel('Y test')\r\n",
    "plt.show()"
   ],
   "outputs": [],
   "metadata": {}
  },
  {
   "cell_type": "code",
   "execution_count": null,
   "source": [
    "# Test score\r\n",
    "score_knncla= knncla.score(X_test, Y_test)\r\n",
    "print(score_knncla)"
   ],
   "outputs": [],
   "metadata": {}
  },
  {
   "cell_type": "markdown",
   "source": [
    "Test score"
   ],
   "metadata": {}
  },
  {
   "cell_type": "code",
   "execution_count": null,
   "source": [
    "Testscores = pd.Series([score_logreg, score_svmcla, score_nbcla, score_dtcla, score_rfcla, score_knncla], index=['Logistic Regression Score', 'Support Vector Machine Score', 'Naive Bayes Score', 'Decision Tree Score', 'Random Forest Score', 'K-Nearest Neighbour Score']) \r\n",
    "print(Testscores)"
   ],
   "outputs": [],
   "metadata": {}
  },
  {
   "cell_type": "markdown",
   "source": [
    "The confusion matrix"
   ],
   "metadata": {}
  },
  {
   "cell_type": "code",
   "execution_count": null,
   "source": [
    "fig = plt.figure(figsize=(15,15))\r\n",
    "ax1 = fig.add_subplot(3, 3, 1) \r\n",
    "ax1.set_title('Logistic Regression Classification') \r\n",
    "ax2 = fig.add_subplot(3, 3, 2) \r\n",
    "ax2.set_title('SVM Classification')\r\n",
    "ax3 = fig.add_subplot(3, 3, 3)\r\n",
    "ax3.set_title('Naive Bayes Classification')\r\n",
    "ax4 = fig.add_subplot(3, 3, 4)\r\n",
    "ax4.set_title('Decision Tree Classification')\r\n",
    "ax5 = fig.add_subplot(3, 3, 5)\r\n",
    "ax5.set_title('Random Forest Classification')\r\n",
    "ax6 = fig.add_subplot(3, 3, 6)\r\n",
    "ax6.set_title('KNN Classification')\r\n",
    "sns.heatmap(data=logreg_cm, annot=True, linewidth=0.7, linecolor='cyan',cmap=\"YlGnBu\" ,fmt='g', ax=ax1)\r\n",
    "sns.heatmap(data=svmcla_cm, annot=True, linewidth=0.7, linecolor='cyan',cmap=\"YlGnBu\" ,fmt='g', ax=ax2)  \r\n",
    "sns.heatmap(data=nbcla_cm, annot=True, linewidth=0.7, linecolor='cyan',cmap=\"YlGnBu\" ,fmt='g', ax=ax3)\r\n",
    "sns.heatmap(data=dtcla_cm, annot=True, linewidth=0.7, linecolor='cyan',cmap=\"YlGnBu\" ,fmt='g', ax=ax4)\r\n",
    "sns.heatmap(data=rfcla_cm, annot=True, linewidth=0.7, linecolor='cyan',cmap=\"YlGnBu\" ,fmt='g', ax=ax5)\r\n",
    "sns.heatmap(data=knncla_cm, annot=True, linewidth=0.7, linecolor='cyan',cmap=\"YlGnBu\" ,fmt='g', ax=ax6)\r\n",
    "plt.show()"
   ],
   "outputs": [],
   "metadata": {}
  },
  {
   "cell_type": "markdown",
   "source": [
    "ROC curve"
   ],
   "metadata": {}
  },
  {
   "cell_type": "code",
   "execution_count": null,
   "source": [
    "from sklearn.metrics import roc_curve\r\n",
    "\r\n",
    "# Logistic Regression Classification\r\n",
    "Y_predict1_proba = logreg.predict_proba(X_test)\r\n",
    "Y_predict1_proba = Y_predict1_proba[:, 1]\r\n",
    "fpr, tpr, thresholds = roc_curve(Y_test, Y_predict1_proba)\r\n",
    "plt.subplot(331)\r\n",
    "plt.plot([0,1],[0,1],'k--')\r\n",
    "plt.plot(fpr,tpr, label='ANN')\r\n",
    "plt.xlabel('fpr')\r\n",
    "plt.ylabel('tpr')\r\n",
    "plt.title('ROC Curve Logistic Regression')\r\n",
    "plt.grid(True)\r\n",
    "\r\n",
    "# SVM Classification\r\n",
    "Y_predict2_proba = svmcla.predict_proba(X_test)\r\n",
    "Y_predict2_proba = Y_predict2_proba[:, 1]\r\n",
    "fpr, tpr, thresholds = roc_curve(Y_test, Y_predict2_proba)\r\n",
    "plt.subplot(332)\r\n",
    "plt.plot([0,1],[0,1],'k--')\r\n",
    "plt.plot(fpr,tpr, label='ANN')\r\n",
    "plt.xlabel('fpr')\r\n",
    "plt.ylabel('tpr')\r\n",
    "plt.title('ROC Curve SVM')\r\n",
    "plt.grid(True)\r\n",
    "\r\n",
    "# Naive Bayes Classification\r\n",
    "Y_predict3_proba = nbcla.predict_proba(X_test)\r\n",
    "Y_predict3_proba = Y_predict3_proba[:, 1]\r\n",
    "fpr, tpr, thresholds = roc_curve(Y_test, Y_predict3_proba)\r\n",
    "plt.subplot(333)\r\n",
    "plt.plot([0,1],[0,1],'k--')\r\n",
    "plt.plot(fpr,tpr, label='ANN')\r\n",
    "plt.xlabel('fpr')\r\n",
    "plt.ylabel('tpr')\r\n",
    "plt.title('ROC Curve Naive Bayes')\r\n",
    "plt.grid(True)\r\n",
    "\r\n",
    "# Decision Tree Classification\r\n",
    "Y_predict4_proba = dtcla.predict_proba(X_test)\r\n",
    "Y_predict4_proba = Y_predict4_proba[:, 1]\r\n",
    "fpr, tpr, thresholds = roc_curve(Y_test, Y_predict4_proba)\r\n",
    "plt.subplot(334)\r\n",
    "plt.plot([0,1],[0,1],'k--')\r\n",
    "plt.plot(fpr,tpr, label='ANN')\r\n",
    "plt.xlabel('fpr')\r\n",
    "plt.ylabel('tpr')\r\n",
    "plt.title('ROC Curve Decision Tree')\r\n",
    "plt.grid(True)\r\n",
    "\r\n",
    "# Random Forest Classification\r\n",
    "Y_predict5_proba = rfcla.predict_proba(X_test)\r\n",
    "Y_predict5_proba = Y_predict5_proba[:, 1]\r\n",
    "fpr, tpr, thresholds = roc_curve(Y_test, Y_predict5_proba)\r\n",
    "plt.subplot(335)\r\n",
    "plt.plot([0,1],[0,1],'k--')\r\n",
    "plt.plot(fpr,tpr, label='ANN')\r\n",
    "plt.xlabel('fpr')\r\n",
    "plt.ylabel('tpr')\r\n",
    "plt.title('ROC Curve Random Forest')\r\n",
    "plt.grid(True)\r\n",
    "\r\n",
    "# KNN Classification\r\n",
    "Y_predict6_proba = knncla.predict_proba(X_test)\r\n",
    "Y_predict6_proba = Y_predict6_proba[:, 1]\r\n",
    "fpr, tpr, thresholds = roc_curve(Y_test, Y_predict6_proba)\r\n",
    "plt.subplot(336)\r\n",
    "plt.plot([0,1],[0,1],'k--')\r\n",
    "plt.plot(fpr,tpr, label='ANN')\r\n",
    "plt.xlabel('fpr')\r\n",
    "plt.ylabel('tpr')\r\n",
    "plt.title('ROC Curve KNN')\r\n",
    "plt.grid(True)\r\n",
    "plt.subplots_adjust(top=2, bottom=0.08, left=0.10, right=1.4, hspace=0.45, wspace=0.45)\r\n",
    "plt.show()"
   ],
   "outputs": [],
   "metadata": {}
  },
  {
   "cell_type": "markdown",
   "source": [
    "Features Selection\r\n",
    "\r\n",
    "1. In here we drop Age from data1. We use features :Smokes, AreaQ, Alkhol"
   ],
   "metadata": {}
  },
  {
   "cell_type": "code",
   "execution_count": null,
   "source": [
    "Y1 = data1['Result']\r\n",
    "X1 = data1.drop(columns=['Age'])\r\n",
    "from sklearn.svm import LinearSVC\r\n",
    "from sklearn.feature_selection import SelectFromModel\r\n",
    "\r\n",
    "lsvc = LinearSVC(C=0.06, penalty=\"l1\", dual=False,random_state=10).fit(X1, Y1)\r\n",
    "model = SelectFromModel(lsvc, prefit=True)\r\n",
    "X_new = model.transform(X1)\r\n",
    "cc = list(X1.columns[model.get_support(indices=True)])\r\n",
    "print(cc)\r\n",
    "print(len(cc))"
   ],
   "outputs": [],
   "metadata": {}
  },
  {
   "cell_type": "code",
   "execution_count": null,
   "source": [
    "# Principal component analysis\r\n",
    "from sklearn.decomposition import PCA\r\n",
    "\r\n",
    "pca = PCA().fit(X1)\r\n",
    "plt.figure()\r\n",
    "plt.plot(np.cumsum(pca.explained_variance_ratio_))\r\n",
    "plt.xlabel('Smokes AreaQ Alkhol Result')\r\n",
    "plt.ylabel('% Variance Explained')\r\n",
    "plt.title('PCA Analysis')\r\n",
    "plt.grid(True)\r\n",
    "plt.show()"
   ],
   "outputs": [],
   "metadata": {}
  },
  {
   "cell_type": "code",
   "execution_count": null,
   "source": [
    "# Percentage of total variance explained\r\n",
    "variance = pd.Series(list(np.cumsum(pca.explained_variance_ratio_)), index= list(range(1,5))) \r\n",
    "print(variance[10:90])"
   ],
   "outputs": [],
   "metadata": {}
  },
  {
   "cell_type": "code",
   "execution_count": null,
   "source": [
    "X1 = data1[cc] \r\n",
    "from sklearn.model_selection import train_test_split\r\n",
    "X1_train, X1_test, Y1_train, Y1_test = train_test_split(X1, Y1, test_size=0.1, random_state=10)"
   ],
   "outputs": [],
   "metadata": {}
  },
  {
   "cell_type": "markdown",
   "source": [
    "The classification is performed using the techniques described above, where the only thing that changes is the training and testing data."
   ],
   "metadata": {}
  },
  {
   "cell_type": "code",
   "execution_count": null,
   "source": [
    "# Logistic regression classification\r\n",
    "logreg.fit(X1_train, Y1_train)\r\n",
    "Y1_predict1 = logreg.predict(X1_test)\r\n",
    "logreg_cm = confusion_matrix(Y1_test, Y1_predict1)\r\n",
    "score1_logreg = logreg.score(X1_test, Y1_test)\r\n",
    "\r\n",
    "# SVM classification\r\n",
    "svmcla.fit(X1_train, Y1_train)\r\n",
    "Y1_predict2 = svmcla.predict(X1_test)\r\n",
    "svmcla_cm = confusion_matrix(Y1_test, Y1_predict2)\r\n",
    "score1_svmcla = svmcla.score(X1_test, Y1_test)\r\n",
    "\r\n",
    "# Random forest classification\r\n",
    "rfcla.fit(X1_train, Y1_train)\r\n",
    "Y1_predict5 = rfcla.predict(X1_test)\r\n",
    "rfcla_cm = confusion_matrix(Y1_test, Y1_predict5)\r\n",
    "score1_rfcla = rfcla.score(X1_test, Y1_test)"
   ],
   "outputs": [],
   "metadata": {}
  },
  {
   "cell_type": "markdown",
   "source": [
    "Comparison of classification techniques"
   ],
   "metadata": {}
  },
  {
   "cell_type": "code",
   "execution_count": null,
   "source": [
    "Testscores1 = pd.Series([score1_logreg, score1_svmcla, score1_rfcla], index=['Logistic Regression Score', 'Support Vector Machine Score', 'Random Forest Score']) \r\n",
    "print(Testscores1)"
   ],
   "outputs": [],
   "metadata": {}
  },
  {
   "cell_type": "code",
   "execution_count": null,
   "source": [
    "fig = plt.figure(figsize=(15,15))\r\n",
    "ax1 = fig.add_subplot(3, 3, 1) \r\n",
    "ax1.set_title('Logistic Regression Classification') \r\n",
    "ax2 = fig.add_subplot(3, 3, 2) \r\n",
    "ax2.set_title('SVM Classification')\r\n",
    "ax5 = fig.add_subplot(3, 3,3)\r\n",
    "ax5.set_title('Random Forest Classification')\r\n",
    "\r\n",
    "sns.heatmap(data=logreg_cm, annot=True, linewidth=0.7, linecolor='cyan',cmap=\"YlGnBu\" ,fmt='g', ax=ax1)\r\n",
    "sns.heatmap(data=svmcla_cm, annot=True, linewidth=0.7, linecolor='cyan',cmap=\"YlGnBu\" ,fmt='g', ax=ax2)  \r\n",
    "sns.heatmap(data=rfcla_cm, annot=True, linewidth=0.7, linecolor='cyan',cmap=\"YlGnBu\" ,fmt='g', ax=ax5)\r\n",
    "plt.show()"
   ],
   "outputs": [],
   "metadata": {}
  },
  {
   "cell_type": "markdown",
   "source": [
    "2. We drop AreaQ from data1. We use features :Age, Smokes, Alkhol"
   ],
   "metadata": {}
  },
  {
   "cell_type": "code",
   "execution_count": null,
   "source": [
    "Y1 = data1['Result']\r\n",
    "X1 = data1.drop(columns=['AreaQ'])\r\n",
    "from sklearn.svm import LinearSVC\r\n",
    "from sklearn.feature_selection import SelectFromModel\r\n",
    "\r\n",
    "lsvc = LinearSVC(C=0.06, penalty=\"l1\", dual=False,random_state=10).fit(X1, Y1)\r\n",
    "model = SelectFromModel(lsvc, prefit=True)\r\n",
    "X_new = model.transform(X1)\r\n",
    "cc = list(X1.columns[model.get_support(indices=True)])\r\n",
    "print(cc)\r\n",
    "print(len(cc))"
   ],
   "outputs": [],
   "metadata": {}
  },
  {
   "cell_type": "code",
   "execution_count": null,
   "source": [
    "# Principal component analysis\r\n",
    "from sklearn.decomposition import PCA\r\n",
    "\r\n",
    "pca = PCA().fit(X1)\r\n",
    "plt.figure()\r\n",
    "plt.plot(np.cumsum(pca.explained_variance_ratio_))\r\n",
    "plt.xlabel('Age Smokes Alkhol Result')\r\n",
    "plt.ylabel('% Variance Explained')\r\n",
    "plt.title('PCA Analysis')\r\n",
    "plt.grid(True)\r\n",
    "plt.show()"
   ],
   "outputs": [],
   "metadata": {}
  },
  {
   "cell_type": "code",
   "execution_count": null,
   "source": [
    "# Percentage of total variance explained\r\n",
    "variance = pd.Series(list(np.cumsum(pca.explained_variance_ratio_)), index= list(range(1,5))) \r\n",
    "print(variance[10:90])"
   ],
   "outputs": [],
   "metadata": {}
  },
  {
   "cell_type": "code",
   "execution_count": null,
   "source": [
    "X1 = data1[cc] \r\n",
    "from sklearn.model_selection import train_test_split\r\n",
    "X1_train, X1_test, Y1_train, Y1_test = train_test_split(X1, Y1, test_size=0.1, random_state=10)"
   ],
   "outputs": [],
   "metadata": {}
  },
  {
   "cell_type": "markdown",
   "source": [
    "The classification is performed using the techniques described above, where the only thing that changes is the training and testing data."
   ],
   "metadata": {}
  },
  {
   "cell_type": "code",
   "execution_count": null,
   "source": [
    "# Logistic regression classification\r\n",
    "logreg.fit(X1_train, Y1_train)\r\n",
    "Y1_predict1 = logreg.predict(X1_test)\r\n",
    "logreg_cm = confusion_matrix(Y1_test, Y1_predict1)\r\n",
    "score1_logreg = logreg.score(X1_test, Y1_test)\r\n",
    "\r\n",
    "# SVM classification\r\n",
    "svmcla.fit(X1_train, Y1_train)\r\n",
    "Y1_predict2 = svmcla.predict(X1_test)\r\n",
    "svmcla_cm = confusion_matrix(Y1_test, Y1_predict2)\r\n",
    "score1_svmcla = svmcla.score(X1_test, Y1_test)\r\n",
    "\r\n",
    "# Random forest classification\r\n",
    "rfcla.fit(X1_train, Y1_train)\r\n",
    "Y1_predict5 = rfcla.predict(X1_test)\r\n",
    "rfcla_cm = confusion_matrix(Y1_test, Y1_predict5)\r\n",
    "score1_rfcla = rfcla.score(X1_test, Y1_test)"
   ],
   "outputs": [],
   "metadata": {}
  },
  {
   "cell_type": "code",
   "execution_count": null,
   "source": [
    "Testscores1 = pd.Series([score1_logreg, score1_svmcla, score1_rfcla], index=['Logistic Regression Score', 'Support Vector Machine Score', 'Random Forest Score']) \r\n",
    "print(Testscores1)"
   ],
   "outputs": [],
   "metadata": {}
  },
  {
   "cell_type": "code",
   "execution_count": null,
   "source": [
    "fig = plt.figure(figsize=(15,15))\r\n",
    "ax1 = fig.add_subplot(3, 3, 1) \r\n",
    "ax1.set_title('Logistic Regression Classification') \r\n",
    "ax2 = fig.add_subplot(3, 3, 2) \r\n",
    "ax2.set_title('SVM Classification')\r\n",
    "ax5 = fig.add_subplot(3, 3,3)\r\n",
    "ax5.set_title('Random Forest Classification')\r\n",
    "sns.heatmap(data=logreg_cm, annot=True, linewidth=0.7, linecolor='cyan',cmap=\"YlGnBu\" ,fmt='g', ax=ax1)\r\n",
    "sns.heatmap(data=svmcla_cm, annot=True, linewidth=0.7, linecolor='cyan',cmap=\"YlGnBu\" ,fmt='g', ax=ax2)  \r\n",
    "sns.heatmap(data=rfcla_cm, annot=True, linewidth=0.7, linecolor='cyan',cmap=\"YlGnBu\" ,fmt='g', ax=ax5)\r\n",
    "plt.show()"
   ],
   "outputs": [],
   "metadata": {}
  },
  {
   "cell_type": "markdown",
   "source": [
    "1. We drop Alkhol from data1. We use features :Age, Smokes, AreaQ"
   ],
   "metadata": {}
  },
  {
   "cell_type": "code",
   "execution_count": null,
   "source": [
    "Y1 = data1['Result']\r\n",
    "X1 = data1.drop(columns=['Alkhol'])\r\n",
    "from sklearn.svm import LinearSVC\r\n",
    "from sklearn.feature_selection import SelectFromModel\r\n",
    "\r\n",
    "lsvc = LinearSVC(C=0.06, penalty=\"l1\", dual=False,random_state=10).fit(X1, Y1)\r\n",
    "model = SelectFromModel(lsvc, prefit=True)\r\n",
    "X_new = model.transform(X1)\r\n",
    "cc = list(X1.columns[model.get_support(indices=True)])\r\n",
    "print(cc)\r\n",
    "print(len(cc))"
   ],
   "outputs": [],
   "metadata": {}
  },
  {
   "cell_type": "code",
   "execution_count": null,
   "source": [
    "# Principal component analysis\r\n",
    "from sklearn.decomposition import PCA\r\n",
    "\r\n",
    "pca = PCA().fit(X1)\r\n",
    "plt.figure()\r\n",
    "plt.plot(np.cumsum(pca.explained_variance_ratio_))\r\n",
    "plt.xlabel('Age Smokes AreaQ Result')\r\n",
    "plt.ylabel('% Variance Explained')\r\n",
    "plt.title('PCA Analysis')\r\n",
    "plt.grid(True)\r\n",
    "plt.show()"
   ],
   "outputs": [],
   "metadata": {}
  },
  {
   "cell_type": "code",
   "execution_count": null,
   "source": [
    "# Percentage of total variance explained\r\n",
    "variance = pd.Series(list(np.cumsum(pca.explained_variance_ratio_)), index= list(range(1,5))) \r\n",
    "print(variance[10:90])"
   ],
   "outputs": [],
   "metadata": {}
  },
  {
   "cell_type": "code",
   "execution_count": null,
   "source": [
    "X1 = data1[cc] \r\n",
    "from sklearn.model_selection import train_test_split\r\n",
    "X1_train, X1_test, Y1_train, Y1_test = train_test_split(X1, Y1, test_size=0.1, random_state=10)"
   ],
   "outputs": [],
   "metadata": {}
  },
  {
   "cell_type": "markdown",
   "source": [
    "The classification is performed using the techniques described above, where the only thing that changes is the training and testing data."
   ],
   "metadata": {}
  },
  {
   "cell_type": "code",
   "execution_count": null,
   "source": [
    "# Logistic regression classification\r\n",
    "logreg.fit(X1_train, Y1_train)\r\n",
    "Y1_predict1 = logreg.predict(X1_test)\r\n",
    "logreg_cm = confusion_matrix(Y1_test, Y1_predict1)\r\n",
    "score1_logreg = logreg.score(X1_test, Y1_test)\r\n",
    "\r\n",
    "# SVM classification\r\n",
    "svmcla.fit(X1_train, Y1_train)\r\n",
    "Y1_predict2 = svmcla.predict(X1_test)\r\n",
    "svmcla_cm = confusion_matrix(Y1_test, Y1_predict2)\r\n",
    "score1_svmcla = svmcla.score(X1_test, Y1_test)\r\n",
    "\r\n",
    "# Random forest classification\r\n",
    "rfcla.fit(X1_train, Y1_train)\r\n",
    "Y1_predict5 = rfcla.predict(X1_test)\r\n",
    "rfcla_cm = confusion_matrix(Y1_test, Y1_predict5)\r\n",
    "score1_rfcla = rfcla.score(X1_test, Y1_test)"
   ],
   "outputs": [],
   "metadata": {}
  },
  {
   "cell_type": "code",
   "execution_count": null,
   "source": [
    "Testscores1 = pd.Series([score1_logreg, score1_svmcla, score1_rfcla], index=['Logistic Regression Score', 'Support Vector Machine Score', 'Random Forest Score']) \r\n",
    "print(Testscores1)"
   ],
   "outputs": [],
   "metadata": {}
  },
  {
   "cell_type": "code",
   "execution_count": null,
   "source": [
    "fig = plt.figure(figsize=(15,15))\r\n",
    "ax1 = fig.add_subplot(3, 3, 1) \r\n",
    "ax1.set_title('Logistic Regression Classification') \r\n",
    "ax2 = fig.add_subplot(3, 3, 2) \r\n",
    "ax2.set_title('SVM Classification')\r\n",
    "ax5 = fig.add_subplot(3, 3,3)\r\n",
    "ax5.set_title('Random Forest Classification')\r\n",
    "sns.heatmap(data=logreg_cm, annot=True, linewidth=0.7, linecolor='cyan',cmap=\"YlGnBu\" ,fmt='g', ax=ax1)\r\n",
    "sns.heatmap(data=svmcla_cm, annot=True, linewidth=0.7, linecolor='cyan',cmap=\"YlGnBu\" ,fmt='g', ax=ax2)  \r\n",
    "sns.heatmap(data=rfcla_cm, annot=True, linewidth=0.7, linecolor='cyan',cmap=\"YlGnBu\" ,fmt='g', ax=ax5)\r\n",
    "plt.show()"
   ],
   "outputs": [],
   "metadata": {}
  }
 ],
 "metadata": {
  "orig_nbformat": 4,
  "language_info": {
   "name": "python",
   "version": "3.9.6",
   "mimetype": "text/x-python",
   "codemirror_mode": {
    "name": "ipython",
    "version": 3
   },
   "pygments_lexer": "ipython3",
   "nbconvert_exporter": "python",
   "file_extension": ".py"
  },
  "kernelspec": {
   "name": "python3",
   "display_name": "Python 3.9.6 64-bit"
  },
  "interpreter": {
   "hash": "bfb8b0b5f8beb22dca0dde569f5c8c5ea5061f1de9a2601db5849063e3c50b60"
  }
 },
 "nbformat": 4,
 "nbformat_minor": 2
}